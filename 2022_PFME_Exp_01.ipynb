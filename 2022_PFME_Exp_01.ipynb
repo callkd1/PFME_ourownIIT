{
  "nbformat": 4,
  "nbformat_minor": 0,
  "metadata": {
    "colab": {
      "provenance": []
    },
    "kernelspec": {
      "name": "python3",
      "display_name": "Python 3"
    },
    "language_info": {
      "name": "python"
    }
  },
  "cells": [
    {
      "cell_type": "code",
      "source": [
        "num1 = int(input(\"Enter first number \"))\n",
        "num2 = int(input(\"Enter second number \"))\n",
        "\n",
        "sum = num1 + num2\n",
        "print(\"Sum is:\", sum)\n"
      ],
      "metadata": {
        "colab": {
          "base_uri": "https://localhost:8080/"
        },
        "outputId": "be5a9198-2bc4-4aac-a314-3ff8095be4c7",
        "id": "7I4cG7GtMtvH"
      },
      "execution_count": null,
      "outputs": [
        {
          "output_type": "stream",
          "name": "stdout",
          "text": [
            "Enter first number 2\n",
            "Enter second number 6\n",
            "Sum is: 8\n"
          ]
        }
      ]
    },
    {
      "cell_type": "code",
      "execution_count": null,
      "metadata": {
        "colab": {
          "base_uri": "https://localhost:8080/"
        },
        "id": "f-L3GXD_Kr4Z",
        "outputId": "fbefcdf8-3978-44c6-a24a-1d4e937bf840"
      },
      "outputs": [
        {
          "output_type": "stream",
          "name": "stdout",
          "text": [
            "Enter first number 10\n",
            "Enter second number 10\n",
            "both numbers are equal.\n"
          ]
        }
      ],
      "source": [
        "num1 = int(input(\"Enter first number \"))\n",
        "num2 = int(input(\"Enter second number \"))\n",
        "\n",
        "if (num1>num2):\n",
        "  print(num1, \"is greater than \",num2)\n",
        "if (num1<num2):\n",
        "  print(num2, \"is greater than \",num1)\n",
        "else:\n",
        "  print(\"Both numbers are equal.\")\n"
      ]
    },
    {
      "cell_type": "code",
      "source": [
        "num1 = int(input(\"Enter first number \"))\n",
        "num2 = int(input(\"Enter second number \"))\n",
        "\n",
        "res = num1 * num2\n",
        "print(\"Product is:\",  res)\n"
      ],
      "metadata": {
        "colab": {
          "base_uri": "https://localhost:8080/"
        },
        "id": "wEGXn1daL5Is",
        "outputId": "de9ebee5-a3cd-4f8c-8ca9-514889bde0c9"
      },
      "execution_count": null,
      "outputs": [
        {
          "output_type": "stream",
          "name": "stdout",
          "text": [
            "Enter first number 10\n",
            "Enter second number 2\n",
            "Product is: 20\n"
          ]
        }
      ]
    },
    {
      "cell_type": "code",
      "source": [
        "num = float(input(\"Enter any number with decimal places like 20.12365:\"))\n",
        "print('%.2f' % num)"
      ],
      "metadata": {
        "colab": {
          "base_uri": "https://localhost:8080/"
        },
        "id": "wIyyzidwMHGN",
        "outputId": "2083b4ff-a3a4-4388-cbea-4d9073649449"
      },
      "execution_count": null,
      "outputs": [
        {
          "output_type": "stream",
          "name": "stdout",
          "text": [
            "Enter any number with decimal places like 20.12365:20.235656\n",
            "20.24\n"
          ]
        }
      ]
    },
    {
      "cell_type": "code",
      "source": [
        "number_list = []\n",
        "\n",
        "# list size is user defined.\n",
        "size = int(input(print(\"How many numbers you want in the list? \")))\n",
        "\n",
        "# run loop that many times.\n",
        "for i in range(0, size):\n",
        "    print(\"Enter number at location\", i, \":\")\n",
        "    # accept float number from user\n",
        "    item = float(input())\n",
        "    # add it to the list\n",
        "    number_list.append(item)\n",
        "\n",
        "print(\"User List:\", number_list)"
      ],
      "metadata": {
        "colab": {
          "base_uri": "https://localhost:8080/"
        },
        "id": "sc5LgSEYNsvN",
        "outputId": "3fa38746-22ba-468c-e988-1f80c652d64b"
      },
      "execution_count": null,
      "outputs": [
        {
          "output_type": "stream",
          "name": "stdout",
          "text": [
            "How many numbers you want in the list? \n",
            "None2\n",
            "Enter number at location 0 :\n",
            "3\n",
            "Enter number at location 1 :\n",
            "6\n",
            "User List: [3.0, 6.0]\n"
          ]
        }
      ]
    },
    {
      "cell_type": "code",
      "source": [
        "# creating an empty list\n",
        "user_list = []\n",
        "\n",
        "# Get number of elements of list.\n",
        "print(\"Give the list of fruits that you like.\")\n",
        "n = int(input(\"Enter number of elements of list: \"))\n",
        "\n",
        "# iterating till the range\n",
        "for i in range(0, n):\n",
        "  element = input()\n",
        "  user_list.append(element) # adding the element\n",
        "\n",
        "print(user_list)\n",
        "# reversing the list\n",
        "new_list = reversed(user_list)\n",
        "print(\"The reversed list is:\", list(new_list))"
      ],
      "metadata": {
        "colab": {
          "base_uri": "https://localhost:8080/"
        },
        "id": "VjtKw9YdPx7W",
        "outputId": "bf617d02-3b63-4f78-c531-6c653c771c7c"
      },
      "execution_count": null,
      "outputs": [
        {
          "output_type": "stream",
          "name": "stdout",
          "text": [
            "Give the list of fruits that you like.\n",
            "Enter number of elements of list: 5\n",
            "Apple\n",
            "Banana\n",
            "Cherry\n",
            "Pineapple\n",
            "Mango\n",
            "['Apple', 'Banana', 'Cherry', 'Pineapple', 'Mango']\n",
            "The reversed list is: ['Mango', 'Pineapple', 'Cherry', 'Banana', 'Apple']\n"
          ]
        }
      ]
    }
  ]
}