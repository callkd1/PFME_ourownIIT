{
  "nbformat": 4,
  "nbformat_minor": 0,
  "metadata": {
    "colab": {
      "provenance": []
    },
    "kernelspec": {
      "name": "python3",
      "display_name": "Python 3"
    },
    "language_info": {
      "name": "python"
    }
  },
  "cells": [
    {
      "cell_type": "markdown",
      "source": [
        "Assignment 06\n",
        "\n",
        "Name of Student:\n",
        "\n",
        "PRN:"
      ],
      "metadata": {
        "id": "Jd0OnWizaUBE"
      }
    },
    {
      "cell_type": "markdown",
      "source": [
        "**Assignment 06**\n",
        "\n",
        "A closed vessel contains 2 kg of CO2 at 20 degree Celcius and 0.7 bar. How much heat shall be supplied to gas til its pressure reaches 1.4 bar? Take Cv = 0.657 kJ/kgK"
      ],
      "metadata": {
        "id": "Wv6TCuUIbYt_"
      }
    },
    {
      "cell_type": "code",
      "execution_count": null,
      "metadata": {
        "colab": {
          "base_uri": "https://localhost:8080/"
        },
        "id": "COx82XSc3HXR",
        "outputId": "f2871a80-c73f-416a-fcc5-e59c03abbbfe"
      },
      "outputs": [
        {
          "output_type": "stream",
          "name": "stdout",
          "text": [
            "Enter mass of gas:2\n",
            "Enter Pressure at start of heating in bar:0.7\n",
            "Enter Temperature at start of heating in degree celcius:20\n",
            "Enter pressure at end of heating in bar:1.4\n",
            "\n",
            "The system is constant volume and closed system\n",
            "\n",
            "Assumptions:\n",
            " 1. CO2 is ideal gas.\n",
            " 2. Cv = 0.657 kJ/kgK\n"
          ]
        }
      ],
      "source": [
        "# Python program on Otto Cycle.\n",
        "import time\n",
        "import math\n",
        "#Math library for some math functions.\n",
        "\n",
        "constant_cv = 0.657\n",
        "constant_gamma = 1.4\n",
        "mass = int(input(\"Enter mass of gas:\"))\n",
        "P1 = float(input(\"Enter Pressure at start of heating in bar:\"))\n",
        "T1 = float(input(\"Enter Temperature at start of heating in degree celcius:\"))\n",
        "T1_kelvin = T1 + 273.15\n",
        "P2 = float(input(\"Enter pressure at end of heating in bar:\"))\n",
        "print(\"\\nThe system is constant volume and closed system\")\n",
        "print(\"\\nAssumptions:\\n 1. CO2 is ideal gas.\\n 2. Cv = 0.657 kJ/kgK\")\n"
      ]
    },
    {
      "cell_type": "code",
      "source": [
        "print(\"\\nCalculating \\n..\")\n",
        "# import time module is used for following command which takes a pause of 5 second.\n",
        "time.sleep(5)\n",
        "print(\"\\nFor a constant volume system: (P/T)=constant\")\n",
        "print(\"T2 = (T1/P1)*P2\")\n",
        "T2_kelvin = (T1_kelvin/P1)*(P2)\n",
        "T2 = T2_kelvin - 273.15\n",
        "print(\"\\nTemperature at the end of heating is \",T2,\"in celcius\")\n",
        "print(\"\\nFor constant Volume system, heat added is Q = m Cv (T2-T1)\")\n",
        "Q = mass * constant_cv * (T2_kelvin-T1_kelvin)\n",
        "print(\"\\nHeat added during process 1-2 is \",Q,\"in kJ\")\n"
      ],
      "metadata": {
        "colab": {
          "base_uri": "https://localhost:8080/"
        },
        "id": "2pjnMxt3WPpv",
        "outputId": "bb040d22-965d-437a-d79d-0aabd662822b"
      },
      "execution_count": null,
      "outputs": [
        {
          "output_type": "stream",
          "name": "stdout",
          "text": [
            "\n",
            "Calculating \n",
            "..\n",
            "\n",
            "For a constant volume system: (P/T)=constant\n",
            "T2 = (T1/P1)*P2\n",
            "\n",
            "Temperature at the end of heating is  313.15 in celcius\n",
            "\n",
            "For constant Volume system, heat added is Q = m Cv (T2-T1)\n",
            "\n",
            "Heat added during process 1-2 is  385.1991 in kJ\n"
          ]
        }
      ]
    }
  ]
}