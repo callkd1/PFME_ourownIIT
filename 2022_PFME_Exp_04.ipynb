{
  "nbformat": 4,
  "nbformat_minor": 0,
  "metadata": {
    "colab": {
      "provenance": []
    },
    "kernelspec": {
      "name": "python3",
      "display_name": "Python 3"
    },
    "language_info": {
      "name": "python"
    }
  },
  "cells": [
    {
      "cell_type": "markdown",
      "source": [
        "**Execrise 01: Using Python, plot  a stacked bar chart for the following.**\n",
        "\n",
        "Heat balance sheet of a IC engine has following data:\n",
        "\n",
        "![image.png](data:image/png;base64,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)"
      ],
      "metadata": {
        "id": "65mFkhVpepDg"
      }
    },
    {
      "cell_type": "code",
      "execution_count": null,
      "metadata": {
        "id": "sdYTHVCmcHTb",
        "colab": {
          "base_uri": "https://localhost:8080/",
          "height": 265
        },
        "outputId": "fb0cd069-0099-4a41-f45a-8eb350bccee6"
      },
      "outputs": [
        {
          "output_type": "display_data",
          "data": {
            "text/plain": [
              "<Figure size 432x288 with 1 Axes>"
            ],
            "image/png": "[encoded data removed]"
          },
          "metadata": {
            "needs_background": "light"
          }
        }
      ],
      "source": [
        "# Import Library\n",
        "\n",
        "import matplotlib.pyplot as plt\n",
        "\n",
        "# Define Data\n",
        "\n",
        "Load = [\"0%\", \"25%\", \"50%\", \"75%\", \"100%\"]\n",
        "BP = [18, 22, 26, 32, 29]\n",
        "Coolant = [51,\t42,\t38,\t31,\t32]\n",
        "Exhaust = [18,\t21,\t25,\t30,\t34]\n",
        "Unaccounted = [13,\t15,\t11,\t7,\t5]\n",
        "\n",
        "# Define width of stacked chart\n",
        "\n",
        "w = 0.6\n",
        "\n",
        "# Plot stacked bar chart\n",
        "\n",
        "plt.bar(Load, BP, w,)\n",
        "plt.bar(Load, Coolant, w, bottom=BP)\n",
        "plt.bar(Load, Exhaust, w, bottom=Coolant)\n",
        "plt.bar(Load, Unaccounted, w, bottom=Exhaust)\n",
        "\n",
        "# Display\n",
        "\n",
        "plt.show()"
      ]
    },
    {
      "cell_type": "markdown",
      "source": [
        "# **Method 2**"
      ],
      "metadata": {
        "id": "IeBfwhDpvZl5"
      }
    },
    {
      "cell_type": "code",
      "source": [
        "# importing packages\n",
        "import pandas as pd\n",
        "import matplotlib.pyplot as plt\n",
        "import numpy as np\n",
        "\n",
        "# initialize data of lists.\n",
        "data = {\"Load\":[\"0%\",\"25%\",\"50%\",\"75%\",\"100%\"],\n",
        "        \"BP\":[18, 22, 26, 32, 29],\n",
        "        \"Coolant Heat Loss\":[51,\t42,\t38,\t31,\t32],\n",
        "        \"Exhaust Heat Loss\":[18,\t21,\t25,\t30,\t34],\n",
        "        \"Unaccounted Heat Loss\":[13,\t15,\t11,\t7,\t5]}\n",
        "\n",
        "# Create DataFrame\n",
        "df = pd.DataFrame(data)\n",
        "\n",
        "# view dataset\n",
        "print(df)\n",
        "\n",
        "# plot a Stacked Bar Chart using matplotlib\n",
        "df.plot(\n",
        "\tx = \"Load\",\n",
        "\tkind = 'barh',\n",
        "\tstacked = True,\n",
        "\ttitle = 'Stacked Bar Graph',\n",
        "\tmark_right = True)\n"
      ],
      "metadata": {
        "colab": {
          "base_uri": "https://localhost:8080/",
          "height": 403
        },
        "id": "wjsUhcjcTaU8",
        "outputId": "3d0927c7-f0e7-4e6f-b9a5-a5109a314dec"
      },
      "execution_count": null,
      "outputs": [
        {
          "output_type": "stream",
          "name": "stdout",
          "text": [
            "   Load  BP  Coolant Heat Loss  Exhaust Heat Loss  Unaccounted Heat Loss\n",
            "0    0%  18                 51                 18                     13\n",
            "1   25%  22                 42                 21                     15\n",
            "2   50%  26                 38                 25                     11\n",
            "3   75%  32                 31                 30                      7\n",
            "4  100%  29                 32                 34                      5\n"
          ]
        },
        {
          "output_type": "execute_result",
          "data": {
            "text/plain": [
              "<matplotlib.axes._subplots.AxesSubplot at 0x7f119c424dc0>"
            ]
          },
          "metadata": {},
          "execution_count": 36
        },
        {
          "output_type": "display_data",
          "data": {
            "text/plain": [
              "<Figure size 432x288 with 1 Axes>"
            ],
            "image/png": "[encoded data removed]"
          },
          "metadata": {
            "needs_background": "light"
          }
        }
      ]
    },
    {
      "cell_type": "markdown",
      "source": [
        "**Assignment 02 on Python Programming:**\n",
        "\n",
        "In an Otto cycle, air at 17 ℃ and 1 bar is compressed adiabatically until the pressure is 15 bar. Heat is added at constant volume until the pressure rises to 40 bar. Calculate the air-standard efficiency, the compression ratio and the mean effective pressure for the cycle. Assume Cv = 0.717 kJ/kg K and R = 0.287 kJ/kg K."
      ],
      "metadata": {
        "id": "mlmHblmr3ILb"
      }
    },
    {
      "cell_type": "code",
      "execution_count": null,
      "metadata": {
        "colab": {
          "base_uri": "https://localhost:8080/"
        },
        "id": "COx82XSc3HXR",
        "outputId": "5a8bbc30-d647-45f6-c9a3-a912b7d28085"
      },
      "outputs": [
        {
          "output_type": "stream",
          "name": "stdout",
          "text": [
            "Enter name of engine cycle:Otto\n",
            "Enter Inlet temperature:19\n",
            "Enter Inlet pressure:1\n",
            "Enter pressure at end of compression:15\n",
            "Enter pressure at end of heat addition:40\n",
            "assumptions:\n",
            " 1. Air is ideal gas.\n",
            " 2. Cv = 0.718 kJ/kgK and R = 0.287 kJ/kgK\n",
            "\n",
            "Calculating parameters\n",
            "\n",
            "Compression ratio = 6.92\n",
            "Cycle efficiency in % =  53.87\n",
            "Temperature at end of compression T2 = 633.33 kelvin\n",
            "Temperature at end of heat addition T3= 1688.89 kelvin\n",
            "Heat supplied to air q = 756.83 kJ/kg\n",
            "Work done by engine w = 407.71 kJ/kg\n",
            "Specific volume before compression v1 = 0.8385 m3/kg\n",
            "Specific volume after compression v2 = 0.1416 m3/kg\n",
            "Swept volume (v1-v2) in m^3/kg =  0.6968 m3/kg\n",
            "MEP in bar =  5.85 bar\n"
          ]
        }
      ],
      "source": [
        "# Python program on Otto Cycle.\n",
        "import time\n",
        "import math\n",
        "from termcolor import colored\n",
        "\n",
        "engine_cycle = input(\"Enter name of engine cycle:\")\n",
        "constant_cv = 0.717\n",
        "constant_R = 0.287\n",
        "constant_gamma = 1.4\n",
        "T1 = int(input(\"Enter Inlet temperature:\"))\n",
        "P1 = int(input(\"Enter Inlet pressure:\"))\n",
        "P2 = int(input(\"Enter pressure at end of compression:\"))\n",
        "P3 = int(input(\"Enter pressure at end of heat addition:\"))\n",
        "print(\"assumptions:\\n 1. Air is ideal gas.\\n 2. Cv = 0.718 kJ/kgK and R = 0.287 kJ/kgK\")\n",
        "print(\"\\nCalculating parameters\\n\")\n",
        "time.sleep(5)\n",
        "Compression_ratio = math.pow((P2/P1), (1/constant_gamma))\n",
        "Cycle_efficiency = 100*(1 - (math.pow((1/Compression_ratio), (constant_gamma - 1))))\n",
        "T2 = (P2/P1)*(1/Compression_ratio)*(T1+273.15)\n",
        "T3 = (P3/P2)*(T2)\n",
        "q = constant_cv * (T3-T2)\n",
        "w = q * (Cycle_efficiency/100)\n",
        "v1 = constant_R * (T1+273.15)/(100*P1)\n",
        "v2 = v1 / (Compression_ratio - 1)\n",
        "swept_volume = (v1 -v2)\n",
        "mep = (w/(100*swept_volume))\n",
        "P4 = (P3/math.pow(Compression_ratio,constant_gamma))\n",
        "T4 = T3/(math.pow(Compression_ratio,(constant_gamma - 1)))\n",
        "\n",
        "print(\"Compression ratio =\", float(f'{Compression_ratio:.2f}'))\n",
        "print(\"Cycle efficiency in % = \",float(f'{Cycle_efficiency:.2f}'))\n",
        "print(\"Temperature at end of compression T2 =\", float(f'{T2:.2f}'),\"kelvin\")\n",
        "print(\"Temperature at end of heat addition T3=\",float(f'{T3:.2f}'),\"kelvin\")\n",
        "print(\"Heat supplied to air q =\",float(f'{q:.2f}'),\"kJ/kg\")\n",
        "print(\"Work done by engine w =\", float(f'{w:.2f}'),\"kJ/kg\")\n",
        "print(\"Specific volume before compression v1 =\",float(f'{v1:.4f}'),\"m3/kg\")\n",
        "print(\"Specific volume after compression v2 =\",float(f'{v2:.4f}'),\"m3/kg\")\n",
        "print(\"Swept volume (v1-v2) in m^3/kg = \",float(f'{swept_volume:.4f}'),\"m3/kg\")\n",
        "print(\"MEP in bar = \",float(f'{mep:.2f}'),\"bar\")\n"
      ]
    }
  ]
}