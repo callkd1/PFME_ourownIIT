{
  "nbformat": 4,
  "nbformat_minor": 0,
  "metadata": {
    "colab": {
      "provenance": []
    },
    "kernelspec": {
      "name": "python3",
      "display_name": "Python 3"
    },
    "language_info": {
      "name": "python"
    }
  },
  "cells": [
    {
      "cell_type": "markdown",
      "source": [
        "## Experiment No. 3\n",
        "Aim: To perform at least two programs related to Data handling and manipulation."
      ],
      "metadata": {
        "id": "pfAM6MNCT8RJ"
      }
    },
    {
      "cell_type": "markdown",
      "source": [
        "Exercise 1: Write a program to create a one-dimensional array and then convert it to a Python list."
      ],
      "metadata": {
        "id": "iBh2AHbdUxaX"
      }
    },
    {
      "cell_type": "code",
      "execution_count": null,
      "metadata": {
        "colab": {
          "base_uri": "https://localhost:8080/"
        },
        "id": "Z50QEa63T7ZO",
        "outputId": "11273e6f-addb-44d1-b273-5fdb69a0a720"
      },
      "outputs": [
        {
          "output_type": "stream",
          "name": "stdout",
          "text": [
            "Pandas Series and type\n",
            "0     2\n",
            "1     4\n",
            "2     6\n",
            "3     8\n",
            "4    10\n",
            "dtype: int64\n",
            "<class 'pandas.core.series.Series'>\n",
            "Convert Pandas Series to Python list\n",
            "[2, 4, 6, 8, 10]\n",
            "<class 'list'>\n"
          ]
        }
      ],
      "source": [
        "# Import library.\n",
        "import pandas as pd\n",
        "\n",
        "# Declare a Pandas data series, identify its type and display it.\n",
        "\n",
        "ds = pd.Series([2, 4, 6, 8, 10])\n",
        "print(\"Pandas Series and type\")\n",
        "print(ds)\n",
        "print(type(ds))\n",
        "\n",
        "# Convert Pandas Series to Python list.\n",
        "print(\"Convert Pandas Series to Python list\")\n",
        "print(ds.tolist())\n",
        "print(type(ds.tolist()))"
      ]
    },
    {
      "cell_type": "markdown",
      "source": [
        "Exercise 2: Write a program to add, subtract, multiple and divide two Pandas Series."
      ],
      "metadata": {
        "id": "TF7Z6zceVMvf"
      }
    },
    {
      "cell_type": "code",
      "source": [
        "# Import Library.\n",
        "import pandas as pd\n",
        "\n",
        "# Declare 2 Pandas series.\n",
        "ds1 = pd.Series([2, 4, 6, 8, 10])\n",
        "ds2 = pd.Series([1, 3, 5, 7, 9])\n",
        "print(ds1)\n",
        "print(ds2)\n",
        "\n",
        "# addition of Pandas series.\n",
        "ds_add = ds1 + ds2\n",
        "print(\"Add two Series:\")\n",
        "print(ds_add)\n",
        "\n",
        "# subtraction of Pandas series.\n",
        "print(\"Subtract two Series:\")\n",
        "ds_sub = ds1 - ds2\n",
        "print(ds_sub)\n",
        "\n",
        "# Multiplication of Pandas series.\n",
        "print(\"Multiply two Series:\")\n",
        "ds_multi = ds1 * ds2\n",
        "print(ds_multi)\n",
        "\n",
        "# Division of Pandas series.\n",
        "print(\"Divide Series1 by Series2:\")\n",
        "ds_div = ds1 / ds2\n",
        "print(ds_div)"
      ],
      "metadata": {
        "colab": {
          "base_uri": "https://localhost:8080/"
        },
        "id": "R_HFOEElUoF7",
        "outputId": "12124129-c60a-40b3-9234-59ca24fea955"
      },
      "execution_count": null,
      "outputs": [
        {
          "output_type": "stream",
          "name": "stdout",
          "text": [
            "0     2\n",
            "1     4\n",
            "2     6\n",
            "3     8\n",
            "4    10\n",
            "dtype: int64\n",
            "0    1\n",
            "1    3\n",
            "2    5\n",
            "3    7\n",
            "4    9\n",
            "dtype: int64\n",
            "Add two Series:\n",
            "0     3\n",
            "1     7\n",
            "2    11\n",
            "3    15\n",
            "4    19\n",
            "dtype: int64\n",
            "Subtract two Series:\n",
            "0    1\n",
            "1    1\n",
            "2    1\n",
            "3    1\n",
            "4    1\n",
            "dtype: int64\n",
            "Multiply two Series:\n",
            "0     2\n",
            "1    12\n",
            "2    30\n",
            "3    56\n",
            "4    90\n",
            "dtype: int64\n",
            "Divide Series1 by Series2:\n",
            "0    2.000000\n",
            "1    1.333333\n",
            "2    1.200000\n",
            "3    1.142857\n",
            "4    1.111111\n",
            "dtype: float64\n"
          ]
        }
      ]
    },
    {
      "cell_type": "markdown",
      "source": [
        "\n",
        "Sample dataframe:\n",
        "\n",
        "exam_data = {'name': ['Kiran', 'Dinesh', 'Karthik', 'Jayesh', 'Rajan', 'Mahesh', 'Madhav', 'Lavkesh', 'Bhushan', 'Jaya'],\n",
        "\n",
        "'score': [12, 9, 16, 8, 9, 20, 14, 12, 8, 19],\n",
        "\n",
        "'attempts': [1, 3, 2, 3, 2, 3, 1, 1, 2, 1],\n",
        "\n",
        "'qualify': ['yes', 'no', 'yes', 'no', 'no', 'yes', 'yes', 'yes', 'no', 'yes']}\n",
        "\n",
        "labels = ['a', 'b', 'c', 'd', 'e', 'f', 'g', 'h', 'i', 'j']"
      ],
      "metadata": {
        "id": "VfVfZTs4aHsI"
      }
    },
    {
      "cell_type": "markdown",
      "source": [
        "**Exercise 3**\n",
        "\n",
        "Write a program to create and display a DataFrame from above data with index labels. Also display basic information of the dataframe.\n"
      ],
      "metadata": {
        "id": "7dEdLp3Fcs_2"
      }
    },
    {
      "cell_type": "code",
      "source": [
        "import pandas as pd\n",
        "import numpy as np\n",
        "\n",
        "exam_data  = {'name': ['Kiran', 'Vijay', 'Karti', 'Nirav', 'Rajan', 'Viraj', 'Suraj', 'Manoj', 'Ashok', 'Jaya'],\n",
        "        'score': [12, 9, 16, 8, 9, 20, 14, 12, 8, 19],\n",
        "        'attempts': [1, 3, 2, 3, 2, 3, 1, 1, 2, 1],\n",
        "        'qualify': ['yes', 'no', 'yes', 'no', 'no', 'yes', 'yes', 'yes', 'no', 'yes']}\n",
        "labels = ['a', 'b', 'c', 'd', 'e', 'f', 'g', 'h', 'i', 'j']\n",
        "\n",
        "df = pd.DataFrame(exam_data , index=labels)\n",
        "print(df)\n",
        "\n",
        "print(\"\\nSummary of the basic information about this DataFrame and its data:\")\n",
        "print(df.info())\n"
      ],
      "metadata": {
        "colab": {
          "base_uri": "https://localhost:8080/"
        },
        "id": "sgVZ-HZya28d",
        "outputId": "75567aa6-1d77-45ef-83c7-32dc8bb69da7"
      },
      "execution_count": null,
      "outputs": [
        {
          "output_type": "stream",
          "name": "stdout",
          "text": [
            "    name  score  attempts qualify\n",
            "a  Kiran     12         1     yes\n",
            "b  Vijay      9         3      no\n",
            "c  Karti     16         2     yes\n",
            "d  Nirav      8         3      no\n",
            "e  Rajan      9         2      no\n",
            "f  Viraj     20         3     yes\n",
            "g  Suraj     14         1     yes\n",
            "h  Manoj     12         1     yes\n",
            "i  Ashok      8         2      no\n",
            "j   Jaya     19         1     yes\n",
            "\n",
            "Summary of the basic information about this DataFrame and its data:\n",
            "<class 'pandas.core.frame.DataFrame'>\n",
            "Index: 10 entries, a to j\n",
            "Data columns (total 4 columns):\n",
            " #   Column    Non-Null Count  Dtype \n",
            "---  ------    --------------  ----- \n",
            " 0   name      10 non-null     object\n",
            " 1   score     10 non-null     int64 \n",
            " 2   attempts  10 non-null     int64 \n",
            " 3   qualify   10 non-null     object\n",
            "dtypes: int64(2), object(2)\n",
            "memory usage: 400.0+ bytes\n",
            "None\n"
          ]
        }
      ]
    },
    {
      "cell_type": "markdown",
      "source": [
        "Exercise 4:\n",
        "\n",
        "Write a program to select the rows where\n",
        "\n",
        "1) the number of attempts in the examination is greater than 1.\n",
        "\n",
        "2) where student score is less than 10."
      ],
      "metadata": {
        "id": "e20mS7rpeM0E"
      }
    },
    {
      "cell_type": "code",
      "source": [
        "import pandas as pd\n",
        "import numpy as np\n",
        "\n",
        "exam_data  = {'name': ['Kiran', 'Vijay', 'Karti', 'Nirav', 'Rajan', 'Viraj', 'Suraj', 'Manoj', 'Ashok', 'Jaya'],\n",
        "        'score': [12, 9, 16, 8, 9, 20, 14, 12, 8, 19],\n",
        "        'attempts': [1, 3, 2, 3, 2, 3, 1, 1, 2, 1],\n",
        "        'qualify': ['yes', 'no', 'yes', 'no', 'no', 'yes', 'yes', 'yes', 'no', 'yes']}\n",
        "labels = ['a', 'b', 'c', 'd', 'e', 'f', 'g', 'h', 'i', 'j']\n",
        "\n",
        "df = pd.DataFrame(exam_data , index=labels)\n",
        "\n",
        "print(\"Number of attempts in the examination is greater than 1:\")\n",
        "print(df[df['attempts'] > 1])\n",
        "\n",
        "print(\"\\nRows where student score is less than 10:\")\n",
        "print(df[df['score']<10])\n"
      ],
      "metadata": {
        "colab": {
          "base_uri": "https://localhost:8080/"
        },
        "id": "EQDRDXZceVyC",
        "outputId": "d6fe2cd9-ea8b-4069-9a4d-0fc7e99a51b9"
      },
      "execution_count": null,
      "outputs": [
        {
          "output_type": "stream",
          "name": "stdout",
          "text": [
            "Number of attempts in the examination is greater than 1:\n",
            "    name  score  attempts qualify\n",
            "b  Vijay      9         3      no\n",
            "c  Karti     16         2     yes\n",
            "d  Nirav      8         3      no\n",
            "e  Rajan      9         2      no\n",
            "f  Viraj     20         3     yes\n",
            "i  Ashok      8         2      no\n",
            "\n",
            "Rows where student score is less than 10:\n",
            "    name  score  attempts qualify\n",
            "b  Vijay      9         3      no\n",
            "d  Nirav      8         3      no\n",
            "e  Rajan      9         2      no\n",
            "i  Ashok      8         2      no\n"
          ]
        }
      ]
    },
    {
      "cell_type": "markdown",
      "source": [
        "Exercise 5:\n",
        "\n",
        "Write a program to select the rows where the number of attempts in the examination is less than 2 and student score is more than 10."
      ],
      "metadata": {
        "id": "eszc6p83g7Ul"
      }
    },
    {
      "cell_type": "code",
      "source": [
        "import pandas as pd\n",
        "import numpy as np\n",
        "\n",
        "exam_data  = {'name': ['Kiran', 'Vijay', 'Karti', 'Nirav', 'Rajan', 'Viraj', 'Suraj', 'Manoj', 'Ashok', 'Jaya'],\n",
        "        'score': [12, 9, 16, 8, 9, 20, 14, 12, 8, 19],\n",
        "        'attempts': [1, 3, 2, 3, 2, 3, 1, 1, 2, 1],\n",
        "        'qualify': ['yes', 'no', 'yes', 'no', 'no', 'yes', 'yes', 'yes', 'no', 'yes']}\n",
        "labels = ['a', 'b', 'c', 'd', 'e', 'f', 'g', 'h', 'i', 'j']\n",
        "\n",
        "df = pd.DataFrame(exam_data , index=labels)\n",
        "\n",
        "print(\"Number of attempts in the examination is less than 2 and score greater than 10 :\")\n",
        "print(df[(df['attempts'] < 2) & (df['score'] > 10)])"
      ],
      "metadata": {
        "colab": {
          "base_uri": "https://localhost:8080/"
        },
        "id": "Thj6nR6_hAcQ",
        "outputId": "d4e30084-ad58-4993-f924-ca12dca24ef9"
      },
      "execution_count": null,
      "outputs": [
        {
          "output_type": "stream",
          "name": "stdout",
          "text": [
            "Number of attempts in the examination is less than 2 and score greater than 10 :\n",
            "    name  score  attempts qualify\n",
            "a  Kiran     12         1     yes\n",
            "g  Suraj     14         1     yes\n",
            "h  Manoj     12         1     yes\n",
            "j   Jaya     19         1     yes\n"
          ]
        }
      ]
    },
    {
      "cell_type": "markdown",
      "source": [
        "Exercise 6:\n",
        "\n",
        "Write a program to sort the DataFrame first by 'name' in descending order, then by 'score' in ascending order."
      ],
      "metadata": {
        "id": "uOfDEPCPhVtD"
      }
    },
    {
      "cell_type": "code",
      "source": [
        "import pandas as pd\n",
        "import numpy as np\n",
        "\n",
        "exam_data  = {'name': ['Kiran', 'Vijay', 'Karti', 'Nirav', 'Rajan', 'Viraj', 'Suraj', 'Manoj', 'Ashok', 'Jaya'],\n",
        "        'score': [12, 9, 16, 8, 9, 20, 14, 12, 8, 19],\n",
        "        'attempts': [1, 3, 2, 3, 2, 3, 1, 1, 2, 1],\n",
        "        'qualify': ['yes', 'no', 'yes', 'no', 'no', 'yes', 'yes', 'yes', 'no', 'yes']}\n",
        "labels = ['a', 'b', 'c', 'd', 'e', 'f', 'g', 'h', 'i', 'j']\n",
        "\n",
        "df = pd.DataFrame(exam_data , index=labels)\n",
        "\n",
        "print(\"Unsorted data is:\")\n",
        "print(df)\n",
        "\n",
        "df2 = df.sort_values(by=['name', 'score'], ascending=[False, True])\n",
        "print(\"The data frame is sorted first by ‘name’ in descending order, then by ‘score’ in ascending order:\")\n",
        "print(df2)"
      ],
      "metadata": {
        "colab": {
          "base_uri": "https://localhost:8080/"
        },
        "id": "SHRdUYMghccK",
        "outputId": "d7e36b9b-8c13-441c-b765-da3652b72065"
      },
      "execution_count": null,
      "outputs": [
        {
          "output_type": "stream",
          "name": "stdout",
          "text": [
            "Unsorted data is:\n",
            "    name  score  attempts qualify\n",
            "a  Kiran     12         1     yes\n",
            "b  Vijay      9         3      no\n",
            "c  Karti     16         2     yes\n",
            "d  Nirav      8         3      no\n",
            "e  Rajan      9         2      no\n",
            "f  Viraj     20         3     yes\n",
            "g  Suraj     14         1     yes\n",
            "h  Manoj     12         1     yes\n",
            "i  Ashok      8         2      no\n",
            "j   Jaya     19         1     yes\n",
            "The data frame is sorted first by ‘name’ in descending order, then by ‘score’ in ascending order:\n",
            "    name  score  attempts qualify\n",
            "f  Viraj     20         3     yes\n",
            "b  Vijay      9         3      no\n",
            "g  Suraj     14         1     yes\n",
            "e  Rajan      9         2      no\n",
            "d  Nirav      8         3      no\n",
            "h  Manoj     12         1     yes\n",
            "a  Kiran     12         1     yes\n",
            "c  Karti     16         2     yes\n",
            "j   Jaya     19         1     yes\n",
            "i  Ashok      8         2      no\n"
          ]
        }
      ]
    },
    {
      "cell_type": "markdown",
      "source": [
        "Exercise 4: With reference to below solve exercise 4A - 4D.\n",
        "\n",
        "player_data1:\n",
        "\n",
        "      player_id              name  \t\t\thighest\n",
        "\n",
        "0         S1  \t\tKiran More\t\t200\n",
        "\n",
        "1         S2      \t\tMohd Azhar    \t210\n",
        "\n",
        "2         S3      \t\tJasprit Bumrah    \t190\n",
        "\n",
        "3         S4        \t\tAjay Jadeja    \t122\n",
        "\n",
        "4         S5       \t\tManprit Bawa    \t201\n",
        "\n",
        "player_data2:\n",
        "\n",
        "      player_id              name  \t\t\thighest\n",
        "\n",
        "0         S4  \t\tAB DeVilliers    \t201\n",
        "\n",
        "1         S5  \t\tCarl Hooper    \t200\n",
        "\n",
        "2         S6      \t\tBrian Lara    \t\t198\n",
        "\n",
        "3         S7    \t\tKane Williamson    \t219\n",
        "\n",
        "4         S8   \t\tBabar Azam\t\t201\n",
        "\n"
      ],
      "metadata": {
        "id": "eLkiTR2vlW36"
      }
    },
    {
      "cell_type": "markdown",
      "source": [
        "Exercise 4A:\n",
        "\n",
        "Write a program to\n",
        "\n",
        "1.   join the two given data frames along rows.\n",
        "2.   join the two given data frames along columns.\n",
        "\n",
        "\n",
        "\n"
      ],
      "metadata": {
        "id": "a_wNL0UDnRIl"
      }
    },
    {
      "cell_type": "code",
      "source": [
        "import pandas as pd\n",
        "\n",
        "player_data1 = pd.DataFrame({\n",
        "        'player_id': ['S1', 'S2', 'S3', 'S4', 'S5'],\n",
        "         'name': ['Kiran More', 'Mohd Azhar', 'Jasprit Bumrah', 'Ajay Jadeja', 'Manprit Bawa'],\n",
        "        'highest': [200, 210, 190, 122, 201]})\n",
        "\n",
        "player_data2 = pd.DataFrame({\n",
        "        'player_id': ['S4', 'S5', 'S6', 'S7', 'S8'],\n",
        "        'name': ['AB DeVilliers', 'Carl Hooper', 'Brian Lara', 'Kane Williamson', 'Brit Marling'],\n",
        "        'highest': [201, 200, 198, 219, 201]})\n",
        "\n",
        "print(\"Original DataFrames:\")\n",
        "print(player_data1)\n",
        "print(\"\\n-------------------------------------\")\n",
        "print(player_data2)\n",
        "print(\"\\nResult after joining two dataframes along rows:\")\n",
        "player_data_row = pd.concat([player_data1, player_data2])\n",
        "print(player_data_row)\n",
        "\n",
        "print(\"\\nResult after joining two dataframes along columns:\")\n",
        "player_data_column = pd.concat([player_data1, player_data2], axis = 1)\n",
        "print(player_data_column)"
      ],
      "metadata": {
        "colab": {
          "base_uri": "https://localhost:8080/"
        },
        "id": "P70OWZkylbWv",
        "outputId": "50abad89-cc65-433b-94a0-62d4a86fcd55"
      },
      "execution_count": null,
      "outputs": [
        {
          "output_type": "stream",
          "name": "stdout",
          "text": [
            "Original DataFrames:\n",
            "  player_id            name  highest\n",
            "0        S1      Kiran More      200\n",
            "1        S2      Mohd Azhar      210\n",
            "2        S3  Jasprit Bumrah      190\n",
            "3        S4     Ajay Jadeja      122\n",
            "4        S5    Manprit Bawa      201\n",
            "\n",
            "-------------------------------------\n",
            "  player_id             name  highest\n",
            "0        S4    AB DeVilliers      201\n",
            "1        S5      Carl Hooper      200\n",
            "2        S6       Brian Lara      198\n",
            "3        S7  Kane Williamson      219\n",
            "4        S8     Brit Marling      201\n",
            "\n",
            "Result after joining two dataframes along rows:\n",
            "  player_id             name  highest\n",
            "0        S1       Kiran More      200\n",
            "1        S2       Mohd Azhar      210\n",
            "2        S3   Jasprit Bumrah      190\n",
            "3        S4      Ajay Jadeja      122\n",
            "4        S5     Manprit Bawa      201\n",
            "0        S4    AB DeVilliers      201\n",
            "1        S5      Carl Hooper      200\n",
            "2        S6       Brian Lara      198\n",
            "3        S7  Kane Williamson      219\n",
            "4        S8     Brit Marling      201\n",
            "\n",
            "Result after joining two dataframes along columns:\n",
            "  player_id            name  highest player_id             name  highest\n",
            "0        S1      Kiran More      200        S4    AB DeVilliers      201\n",
            "1        S2      Mohd Azhar      210        S5      Carl Hooper      200\n",
            "2        S3  Jasprit Bumrah      190        S6       Brian Lara      198\n",
            "3        S4     Ajay Jadeja      122        S7  Kane Williamson      219\n",
            "4        S5    Manprit Bawa      201        S8     Brit Marling      201\n"
          ]
        }
      ]
    },
    {
      "cell_type": "markdown",
      "source": [
        "Exercise 4B:\n",
        "\n",
        "Write a program to join the two given data frames along rows and merge with another dataframe along the common column id.\n",
        "\n",
        "\n",
        "player_data3:\n",
        "\n",
        "   \tplayer_id  \tstrike_rate\n",
        "\n",
        "0          S1       \t23\n",
        "\n",
        "1          S2       \t45\n",
        "\n",
        "2          S3       \t12\n",
        "\n",
        "3          S4       \t67\n",
        "\n",
        "4          S5       \t21\n",
        "\n",
        "5          S7       \t55\n",
        "\n",
        "6          S8       \t33\n",
        "\n",
        "7          S9       \t14\n",
        "\n",
        "8         S10       \t56\n",
        "\n",
        "9         S11       \t83\n",
        "\n",
        "10        S12       \t88\n",
        "\n",
        "11        S13       \t12\n",
        "\n"
      ],
      "metadata": {
        "id": "vbuZY6K6nfOO"
      }
    },
    {
      "cell_type": "code",
      "source": [
        "import pandas as pd\n",
        "\n",
        "player_data1 = pd.DataFrame({\n",
        "        'player_id': ['S1', 'S2', 'S3', 'S4', 'S5'],\n",
        "         'name': ['Kiran More', 'Mohd Azhar', 'Jasprit Bumrah', 'Ajay Jadeja', 'Manprit Bawa'],\n",
        "        'highest': [200, 210, 190, 122, 201]})\n",
        "\n",
        "player_data2 = pd.DataFrame({\n",
        "        'player_id': ['S4', 'S5', 'S6', 'S7', 'S8'],\n",
        "        'name': ['AB DeVilliers', 'Carl Hooper', 'Brian Lara', 'Kane Williamson', 'Brit Marling'],\n",
        "        'highest': [201, 200, 198, 219, 201]})\n",
        "\n",
        "player_data3 = pd.DataFrame({\n",
        "        'player_id': ['S1', 'S2', 'S3', 'S4', 'S5', 'S7', 'S8', 'S9', 'S10', 'S11', 'S12', 'S13'],\n",
        "        'strike_rate': [23, 45, 12, 67, 21, 55, 33, 14, 56, 83, 88, 12]})\n",
        "\n",
        "print(\"Original DataFrames are:\")\n",
        "print(player_data1)\n",
        "print(\"\\n-------------------------------------\")\n",
        "print(player_data2)\n",
        "print(\"\\n-------------------------------------\")\n",
        "print(player_data3)\n",
        "\n",
        "print(\"\\nJoin first two player dataframes along rows:\")\n",
        "player_data_row = pd.concat([student_data1, student_data2])\n",
        "print(player_data_row)\n",
        "\n",
        "print(\"\\nNow join the third dataframe along player_id:\")\n",
        "final_merged_data = pd.merge(player_data_row, player_data3, on='player_id')\n",
        "print(final_merged_data)\n"
      ],
      "metadata": {
        "colab": {
          "base_uri": "https://localhost:8080/"
        },
        "id": "mlGEZk4GoiGE",
        "outputId": "c349138c-5109-4e9b-832c-d44bfda0145f"
      },
      "execution_count": null,
      "outputs": [
        {
          "output_type": "stream",
          "name": "stdout",
          "text": [
            "Original DataFrames are:\n",
            "  player_id            name  highest\n",
            "0        S1      Kiran More      200\n",
            "1        S2      Mohd Azhar      210\n",
            "2        S3  Jasprit Bumrah      190\n",
            "3        S4     Ajay Jadeja      122\n",
            "4        S5    Manprit Bawa      201\n",
            "\n",
            "-------------------------------------\n",
            "  player_id             name  highest\n",
            "0        S4    AB DeVilliers      201\n",
            "1        S5      Carl Hooper      200\n",
            "2        S6       Brian Lara      198\n",
            "3        S7  Kane Williamson      219\n",
            "4        S8     Brit Marling      201\n",
            "\n",
            "-------------------------------------\n",
            "   player_id  strike_rate\n",
            "0         S1           23\n",
            "1         S2           45\n",
            "2         S3           12\n",
            "3         S4           67\n",
            "4         S5           21\n",
            "5         S7           55\n",
            "6         S8           33\n",
            "7         S9           14\n",
            "8        S10           56\n",
            "9        S11           83\n",
            "10       S12           88\n",
            "11       S13           12\n",
            "\n",
            "Join first two player dataframes along rows:\n",
            "  player_id             name  highest\n",
            "0        S1       Kiran More      200\n",
            "1        S2       Mohd Azhar      210\n",
            "2        S3   Jasprit Bumrah      190\n",
            "3        S4      Ajay Jadeja      122\n",
            "4        S5     Manprit Bawa      201\n",
            "0        S4    AB DeVilliers      201\n",
            "1        S5      Carl Hooper      200\n",
            "2        S6       Brian Lara      198\n",
            "3        S7  Kane Williamson      219\n",
            "4        S8     Brit Marling      201\n",
            "\n",
            "Now join the third dataframe along player_id:\n",
            "  player_id             name  highest  strike_rate\n",
            "0        S1       Kiran More      200           23\n",
            "1        S2       Mohd Azhar      210           45\n",
            "2        S3   Jasprit Bumrah      190           12\n",
            "3        S4      Ajay Jadeja      122           67\n",
            "4        S4    AB DeVilliers      201           67\n",
            "5        S5     Manprit Bawa      201           21\n",
            "6        S5      Carl Hooper      200           21\n",
            "7        S7  Kane Williamson      219           55\n",
            "8        S8     Brit Marling      201           33\n"
          ]
        }
      ]
    }
  ]
}