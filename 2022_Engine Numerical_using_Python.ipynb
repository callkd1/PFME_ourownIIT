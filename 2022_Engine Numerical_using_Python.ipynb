{
  "nbformat": 4,
  "nbformat_minor": 0,
  "metadata": {
    "colab": {
      "provenance": []
    },
    "kernelspec": {
      "name": "python3",
      "display_name": "Python 3"
    },
    "language_info": {
      "name": "python"
    }
  },
  "cells": [
    {
      "cell_type": "markdown",
      "source": [
        "Name of Student:\n",
        "\n",
        "PRN:\n",
        "\n",
        "Sharable link of the File:\n",
        "\n",
        "https://colab.research.google.com/drive/1MY2aZjjUP15jihmxjpeBaSRXc7RvNvMN?usp=sharing"
      ],
      "metadata": {
        "id": "Jd0OnWizaUBE"
      }
    },
    {
      "cell_type": "markdown",
      "source": [
        "**Assignment on Python Programming:**\n",
        "\n",
        "In an Otto cycle, air at 17 ℃ and 1 bar is compressed adiabatically until the pressure is 15 bar. Heat is added at constant volume until the pressure rises to 40 bar. Calculate the air-standard efficiency, the compression ratio and the mean effective pressure for the cycle. Assume Cv = 0.717 kJ/kg K and R = 0.287 kJ/kg K."
      ],
      "metadata": {
        "id": "mlmHblmr3ILb"
      }
    },
    {
      "cell_type": "code",
      "execution_count": null,
      "metadata": {
        "colab": {
          "base_uri": "https://localhost:8080/"
        },
        "id": "COx82XSc3HXR",
        "outputId": "34717d63-7221-45ac-bb01-8898af3d33a8"
      },
      "outputs": [
        {
          "output_type": "stream",
          "name": "stdout",
          "text": [
            "Enter name of engine cycle:Otto Cycle\n",
            "Enter Inlet temperature:20\n",
            "Enter Inlet pressure:1\n",
            "Enter pressure at end of compression:15\n",
            "Enter pressure at end of heat addition:40\n",
            "assumptions:\n",
            " 1. Air is ideal gas.\n",
            " 2. Cv = 0.718 kJ/kgK and R = 0.287 kJ/kgK\n",
            "\n",
            "Calculating parameters\n",
            "...\n",
            "\n",
            "Compression ratio = 6.92\n",
            "Cycle efficiency in % =  53.87\n",
            "Temperature at end of compression T2 = 635.5 kelvin\n",
            "Temperature at end of heat addition T3= 1694.67 kelvin\n",
            "Heat supplied to air q = 759.42 kJ/kg\n",
            "Work done by engine w = 409.11 kJ/kg\n",
            "Specific volume before compression v1 = 0.8413 m3/kg\n",
            "Specific volume after compression v2 = 0.1421 m3/kg\n",
            "Swept volume (v1-v2) in m^3/kg =  0.6992 m3/kg\n",
            "MEP in bar =  5.85 bar\n"
          ]
        }
      ],
      "source": [
        "# Python program on Otto Cycle.\n",
        "import time\n",
        "import math\n",
        "from termcolor import colored\n",
        "\n",
        "engine_cycle = input(\"Enter name of engine cycle:\")\n",
        "constant_cv = 0.717\n",
        "constant_R = 0.287\n",
        "constant_gamma = 1.4\n",
        "T1 = int(input(\"Enter Inlet temperature:\"))\n",
        "P1 = int(input(\"Enter Inlet pressure:\"))\n",
        "P2 = int(input(\"Enter pressure at end of compression:\"))\n",
        "P3 = int(input(\"Enter pressure at end of heat addition:\"))\n",
        "print(\"assumptions:\\n 1. Air is ideal gas.\\n 2. Cv = 0.718 kJ/kgK and R = 0.287 kJ/kgK\")\n",
        "print(\"\\nCalculating parameters\\n...\\n\")\n",
        "time.sleep(5)\n",
        "Compression_ratio = math.pow((P2/P1), (1/constant_gamma))\n",
        "Cycle_efficiency = 100*(1 - (math.pow((1/Compression_ratio), (constant_gamma - 1))))\n",
        "T2 = (P2/P1)*(1/Compression_ratio)*(T1+273.15)\n",
        "T3 = (P3/P2)*(T2)\n",
        "q = constant_cv * (T3-T2)\n",
        "w = q * (Cycle_efficiency/100)\n",
        "v1 = constant_R * (T1+273.15)/(100*P1)\n",
        "v2 = v1 / (Compression_ratio - 1)\n",
        "swept_volume = (v1 -v2)\n",
        "mep = (w/(100*swept_volume))\n",
        "P4 = (P3/math.pow(Compression_ratio,constant_gamma))\n",
        "T4 = T3/(math.pow(Compression_ratio,(constant_gamma - 1)))\n",
        "\n",
        "print(\"Compression ratio =\", float(f'{Compression_ratio:.2f}'))\n",
        "print(\"Cycle efficiency in % = \",float(f'{Cycle_efficiency:.2f}'))\n",
        "print(\"Temperature at end of compression T2 =\", float(f'{T2:.2f}'),\"kelvin\")\n",
        "print(\"Temperature at end of heat addition T3=\",float(f'{T3:.2f}'),\"kelvin\")\n",
        "print(\"Heat supplied to air q =\",float(f'{q:.2f}'),\"kJ/kg\")\n",
        "print(\"Work done by engine w =\", float(f'{w:.2f}'),\"kJ/kg\")\n",
        "print(\"Specific volume before compression v1 =\",float(f'{v1:.4f}'),\"m3/kg\")\n",
        "print(\"Specific volume after compression v2 =\",float(f'{v2:.4f}'),\"m3/kg\")\n",
        "print(\"Swept volume (v1-v2) in m^3/kg = \",float(f'{swept_volume:.4f}'),\"m3/kg\")\n",
        "print(\"MEP in bar = \",float(f'{mep:.2f}'),\"bar\")\n"
      ]
    }
  ]
}